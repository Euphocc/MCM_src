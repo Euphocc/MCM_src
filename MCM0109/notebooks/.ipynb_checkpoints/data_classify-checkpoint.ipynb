{
 "cells": [
  {
   "cell_type": "code",
   "execution_count": 1,
   "metadata": {
    "collapsed": true
   },
   "outputs": [
    {
     "name": "stdout",
     "output_type": "stream",
     "text": [
      "(855000, 13)\n",
      "(285000, 13)\n",
      "(6840,)\n"
     ]
    }
   ],
   "source": [
    "import numpy as np\n",
    "import matplotlib.pyplot as plt\n",
    "X_train = (np.load(\"../data/data_selected.npy\"))[:,:]\n",
    "labels = []\n",
    "for i in range(1,20):\n",
    "    for j in range(0,360):\n",
    "        labels.append(i)\n",
    "y_train = np.array(labels)\n",
    "X_test = (np.load(\"../data/data_test_selected.npy\"))[:,:]\n",
    "print(X_train.shape)\n",
    "print(X_test.shape)\n",
    "labels = np.asarray(labels)\n",
    "print(labels.shape)"
   ]
  },
  {
   "cell_type": "code",
   "execution_count": 2,
   "metadata": {},
   "outputs": [
    {
     "data": {
      "text/plain": [
       "array([[-7.90726080e-01, -6.84903440e-02,  1.35896800e-01, ...,\n",
       "         7.09758042e-07,  4.96449755e-05,  6.21709094e-07],\n",
       "       [-7.91961680e-01, -7.01570000e-02,  1.37123040e-01, ...,\n",
       "         8.95215834e-07,  5.06765722e-05,  7.34423040e-07],\n",
       "       [-7.92875360e-01, -7.07231760e-02,  1.36436400e-01, ...,\n",
       "         8.05900442e-07,  4.25671452e-05,  5.75610240e-07],\n",
       "       ...,\n",
       "       [-8.05772640e-01,  3.80417680e-01, -4.46727200e-01, ...,\n",
       "         4.93688000e-02,  6.21623567e-01,  1.70895329e-02],\n",
       "       [-7.57702000e-01,  4.12746480e-01, -5.56242720e-01, ...,\n",
       "         4.01646318e-02,  3.88494671e-01,  1.80311894e-02],\n",
       "       [-5.65478904e-01,  1.56690368e-01, -7.96862800e-01, ...,\n",
       "         1.41987731e-02,  4.54050084e-01,  9.29973933e-03]])"
      ]
     },
     "execution_count": 2,
     "metadata": {},
     "output_type": "execute_result"
    }
   ],
   "source": [
    "def groupedAvg(myArray, N=2):\n",
    "    result = np.cumsum(myArray, 0)[N-1::N]/float(N)\n",
    "    result[1:] = result[1:] - result[:-1]\n",
    "    return result\n",
    "def groupedVar(original_array,N):\n",
    "    newList = []\n",
    "    for i in range(0, original_array.shape[0], N):\n",
    "        r = original_array[i:i+N,:].var(axis=0)\n",
    "        newList.append(r)\n",
    "    new_array = np.asarray(newList)\n",
    "    return new_array\n",
    "\n",
    "X_train1 = groupedAvg(X_train,N=125)\n",
    "X_train2 = groupedVar(X_train,N=125)\n",
    "X_train = np.hstack((X_train1,X_train2))\n",
    "X_train"
   ]
  },
  {
   "cell_type": "code",
   "execution_count": 3,
   "metadata": {},
   "outputs": [],
   "source": [
    "from sklearn import svm\n",
    "from sklearn.svm import SVC\n",
    "\n",
    "clf = svm.SVC(kernel='rbf',class_weight='balanced',decision_function_shape='ovo')\n",
    "clf.cache_size = 500\n",
    "# clf = svm.SVC(kernel='rbf', C=3, gamma='scale')\n",
    "# clf.cache_size = 500\n",
    "# clf.fit(X_train, labels)\n",
    "#\n",
    "# print(\"training score:\", clf.score(X_train, labels))"
   ]
  },
  {
   "cell_type": "code",
   "execution_count": 4,
   "metadata": {},
   "outputs": [
    {
     "name": "stdout",
     "output_type": "stream",
     "text": [
      "(2280, 13)\n",
      "(2280, 26)\n"
     ]
    }
   ],
   "source": [
    "X_test1 = groupedAvg(X_test, N=125)\n",
    "print(X_test1.shape)\n",
    "X_test2 = groupedVar(X_test, N=125)\n",
    "X_test = np.hstack((X_test1, X_test2))\n",
    "print(X_test.shape)"
   ]
  },
  {
   "cell_type": "code",
   "execution_count": 5,
   "metadata": {},
   "outputs": [
    {
     "data": {
      "text/plain": [
       "array([ 1,  1,  1, ..., 19, 19, 19])"
      ]
     },
     "execution_count": 5,
     "metadata": {},
     "output_type": "execute_result"
    }
   ],
   "source": [
    "labels_test = []\n",
    "for i in range(1,20):\n",
    "    for j in range(0,120):\n",
    "        labels_test.append(i)\n",
    "labels_test = np.asarray(labels_test)\n",
    "labels_test"
   ]
  },
  {
   "cell_type": "code",
   "execution_count": 6,
   "metadata": {},
   "outputs": [
    {
     "name": "stdout",
     "output_type": "stream",
     "text": [
      "test accuracy0.8232456140350877\n",
      "train accuracy0.9931286549707602\n"
     ]
    }
   ],
   "source": [
    "from sklearn.model_selection import GridSearchCV\n",
    "from sklearn.preprocessing import StandardScaler\n",
    "scaler = StandardScaler()\n",
    "X_train = scaler.fit_transform(X_train)\n",
    "X_test = scaler.fit_transform(X_test)\n",
    "c_range = np.logspace(-5, 15, 21, base=2)\n",
    "gamma_range = np.logspace(-9, 3, 13, base=2)\n",
    "param_grid = [{'kernel': ['rbf'], 'C': c_range, 'gamma': gamma_range}]\n",
    "grid = GridSearchCV(clf, param_grid, cv=3, n_jobs=-1,refit=True)\n",
    "clf = grid.fit(X_train, labels)\n",
    "score_test = grid.score(X_test, labels_test)\n",
    "score_train = grid.score(X_train, labels)\n",
    "print('test accuracy%s' % score_test)\n",
    "print('train accuracy%s' % score_train)"
   ]
  },
  {
   "cell_type": "code",
   "execution_count": 7,
   "metadata": {},
   "outputs": [
    {
     "data": {
      "text/plain": [
       "{'C': 64.0, 'gamma': 0.0078125, 'kernel': 'rbf'}"
      ]
     },
     "execution_count": 7,
     "metadata": {},
     "output_type": "execute_result"
    }
   ],
   "source": [
    "grid.best_params_"
   ]
  },
  {
   "cell_type": "code",
   "execution_count": 8,
   "metadata": {},
   "outputs": [
    {
     "name": "stdout",
     "output_type": "stream",
     "text": [
      "X_train score: 0.9940058479532163\n",
      "[ 1  1  1 ... 19 19 19]\n",
      "[ 1  1  1 ... 19 19 19]\n",
      "X_test error： 427\n",
      "error account for： 0.18728070175438596\n"
     ]
    }
   ],
   "source": [
    "clf = svm.SVC(kernel='linear', C=64, gamma=grid.best_params_['gamma'],decision_function_shape='ovo')\n",
    "clf.cache_size = 500\n",
    "clf.fit(X_train, labels)\n",
    "\n",
    "print(\"X_train score:\", clf.score(X_train, labels))\n",
    "labels_predict_svm = clf.predict(X_test)\n",
    "print(labels_predict_svm)\n",
    "print(labels_test)\n",
    "errorssvm = np.nonzero(labels_predict_svm - labels_test)\n",
    "print(\"X_test error：\", len(errorssvm[0]))\n",
    "print(\"error account for：\",len(errorssvm[0])/len(labels_test))"
   ]
  },
  {
   "cell_type": "code",
   "execution_count": 9,
   "metadata": {},
   "outputs": [
    {
     "name": "stdout",
     "output_type": "stream",
     "text": [
      "training score: 0.9880116959064328\n",
      "[ 1  1  1 ... 19 19 19]\n",
      "[ 1  1  1 ... 19 19 19]\n",
      "X_test error： 408\n",
      "error account for： 0.17894736842105263\n"
     ]
    }
   ],
   "source": [
    "from sklearn.linear_model import LogisticRegression\n",
    "\n",
    "lr_model = LogisticRegression(max_iter=10000,multi_class='multinomial',solver='sag')\n",
    "lr_model.fit(X_train,labels)\n",
    "print(\"training score:\", lr_model.score(X_train, labels))\n",
    "labels_predict = lr_model.predict(X_test)\n",
    "print(labels_predict)\n",
    "print(labels_test)\n",
    "errors = np.nonzero(labels_predict - labels_test)\n",
    "print(\"X_test error：\", len(errors[0]))\n",
    "print(\"error account for：\",len(errors[0])/len(labels_test))"
   ]
  },
  {
   "cell_type": "code",
   "execution_count": 10,
   "metadata": {},
   "outputs": [
    {
     "name": "stdout",
     "output_type": "stream",
     "text": [
      "training score: 0.9880116959064328\n",
      "[ 1  1  1 ... 19 19 19]\n",
      "[ 1  1  1 ... 19 19 19]\n",
      "X_test error： 408\n",
      "error account for： 0.17894736842105263\n"
     ]
    }
   ],
   "source": [
    "from sklearn.ensemble import RandomForestClassifier\n",
    "rfc = RandomForestClassifier()\n",
    "rfc.fit(X_train, labels)\n",
    "rfc.score(X_test, labels_test)\n",
    "print(\"training score:\", lr_model.score(X_train, labels))\n",
    "labels_predict_forest = lr_model.predict(X_test)\n",
    "print(labels_predict_forest)\n",
    "print(labels_test)\n",
    "errors = np.nonzero(labels_predict_forest - labels_test)\n",
    "print(\"X_test error：\", len(errors[0]))\n",
    "print(\"error account for：\",len(errors[0])/len(labels_test))"
   ]
  },
  {
   "cell_type": "code",
   "execution_count": 11,
   "metadata": {},
   "outputs": [
    {
     "name": "stdout",
     "output_type": "stream",
     "text": [
      "0.8127192982456141\n",
      "0.8328243396936014\n",
      "0.8127192982456141\n"
     ]
    },
    {
     "name": "stderr",
     "output_type": "stream",
     "text": [
      "D:\\Anaconda\\envs\\ml\\lib\\site-packages\\sklearn\\metrics\\_classification.py:1344: UndefinedMetricWarning: Precision is ill-defined and being set to 0.0 in labels with no predicted samples. Use `zero_division` parameter to control this behavior.\n",
      "  _warn_prf(average, modifier, msg_start, len(result))\n"
     ]
    }
   ],
   "source": [
    "from sklearn.metrics import accuracy_score\n",
    "from sklearn.metrics import precision_score\n",
    "from sklearn.metrics import recall_score\n",
    "print(accuracy_score(labels_test,labels_predict_svm))\n",
    "print(precision_score(labels_test,labels_predict_svm,average='macro'))\n",
    "print(recall_score(labels_test,labels_predict_svm,average='macro'))"
   ]
  },
  {
   "cell_type": "code",
   "execution_count": 12,
   "metadata": {},
   "outputs": [
    {
     "name": "stdout",
     "output_type": "stream",
     "text": [
      "{2: 9, 5: 15, 6: 5, 7: 170, 8: 158, 9: 7, 10: 10, 11: 3, 12: 1, 13: 33, 14: 3, 18: 1, 19: 12}\n",
      "{1: 60, 2: 56, 4: 120, 6: 30, 8: 67, 9: 31, 10: 6, 11: 8, 13: 11, 14: 1, 16: 20, 18: 4, 19: 13}\n"
     ]
    }
   ],
   "source": [
    "err_list = []\n",
    "for i in range(0,2280):\n",
    "    if labels_predict_svm[i]!=labels_test[i]:\n",
    "        err_list.append((labels_predict_svm[i],labels_test[i]))\n",
    "err_list = np.asarray(err_list)\n",
    "unique1,count1=np.unique(err_list.T[0],return_counts=True)\n",
    "unique2,count2=np.unique(err_list.T[1],return_counts=True)\n",
    "data_count1=dict(zip(unique1,count1))\n",
    "data_count2=dict(zip(unique2,count2))\n",
    "print(data_count1)\n",
    "print(data_count2)"
   ]
  },
  {
   "cell_type": "code",
   "execution_count": 13,
   "metadata": {},
   "outputs": [
    {
     "name": "stdout",
     "output_type": "stream",
     "text": [
      "0.8210526315789474\n",
      "0.8586141537668027\n",
      "0.8210526315789474\n"
     ]
    }
   ],
   "source": [
    "from sklearn.metrics import accuracy_score\n",
    "from sklearn.metrics import precision_score\n",
    "from sklearn.metrics import recall_score\n",
    "print(accuracy_score(labels_test,labels_predict_forest))\n",
    "print(precision_score(labels_test,labels_predict_forest,average='macro'))\n",
    "print(recall_score(labels_test,labels_predict_forest,average='macro'))"
   ]
  }
 ],
 "metadata": {
  "kernelspec": {
   "display_name": "Python 3 (ipykernel)",
   "language": "python",
   "name": "python3"
  },
  "language_info": {
   "codemirror_mode": {
    "name": "ipython",
    "version": 3
   },
   "file_extension": ".py",
   "mimetype": "text/x-python",
   "name": "python",
   "nbconvert_exporter": "python",
   "pygments_lexer": "ipython3",
   "version": "3.9.15"
  }
 },
 "nbformat": 4,
 "nbformat_minor": 1
}
