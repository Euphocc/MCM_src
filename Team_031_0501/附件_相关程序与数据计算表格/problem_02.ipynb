{
 "cells": [
  {
   "cell_type": "code",
   "execution_count": 25,
   "metadata": {
    "collapsed": true
   },
   "outputs": [
    {
     "data": {
      "text/plain": "array([[1.64905280e+02, 1.62604000e+03, 1.27000000e+00, 2.48600000e+02,\n        1.20060000e+03, 8.43750000e+02, 6.20000000e-01],\n       [1.70391189e+02, 1.75467000e+03, 1.29000000e+00, 2.57900000e+02,\n        1.25350000e+03, 8.66670000e+02, 8.30000000e-01],\n       [1.78782390e+02, 1.86105000e+03, 1.90000000e+00, 2.75300000e+02,\n        1.31660000e+03, 9.31470000e+02, 9.80000000e-01],\n       [1.90831939e+02, 1.93213000e+03, 1.20000000e+00, 2.98600000e+02,\n        1.38740000e+03, 9.38740000e+02, 1.13000000e+00],\n       [2.07823412e+02, 2.05238000e+03, 1.08000000e+00, 3.31200000e+02,\n        1.47320000e+03, 9.49110000e+02, 1.30000000e+00]])"
     },
     "execution_count": 25,
     "metadata": {},
     "output_type": "execute_result"
    }
   ],
   "source": [
    "import numpy as np\n",
    "import pandas as pd\n",
    "import math\n",
    "\n",
    "data = pd.read_excel(r\"./data/problem02_data.xlsx\")\n",
    "data = data.values\n",
    "data = data[:, 1:8]\n",
    "data"
   ]
  },
  {
   "cell_type": "code",
   "execution_count": 26,
   "outputs": [
    {
     "data": {
      "text/plain": "array([[1.01415266e-01, 1.28034646e+03, 5.10860821e-03, 2.07063135e-01,\n        1.42293333e+00, 1.36088710e+03, 6.20000000e-01],\n       [9.71072563e-02, 1.36020930e+03, 5.00193874e-03, 2.05743917e-01,\n        1.44634059e+00, 1.04418072e+03, 8.30000000e-01],\n       [9.60653340e-02, 9.79500000e+02, 6.90156193e-03, 2.09099195e-01,\n        1.41346474e+00, 9.50479592e+02, 9.80000000e-01],\n       [9.87676497e-02, 1.61010833e+03, 4.01875419e-03, 2.15222719e-01,\n        1.47793851e+00, 8.30743363e+02, 1.13000000e+00],\n       [1.01259714e-01, 1.90035185e+03, 3.26086957e-03, 2.24816725e-01,\n        1.55219100e+00, 7.30084615e+02, 1.30000000e+00]])"
     },
     "execution_count": 26,
     "metadata": {},
     "output_type": "execute_result"
    }
   ],
   "source": [
    "emission = data.copy()\n",
    "for i in range(0, 5):\n",
    "    for j in range(0, 6):\n",
    "        emission[i, j] = emission[i, j] / emission[i, j + 1]\n",
    "emission"
   ],
   "metadata": {
    "collapsed": false
   }
  },
  {
   "cell_type": "code",
   "execution_count": 27,
   "outputs": [
    {
     "data": {
      "text/plain": "array([[ -7.27654712,  10.14313337,  -3.53729944,  -1.07142354,\n          2.73513257, -44.40675558,  48.89966918],\n       [ -1.88300631, -57.31481937,  56.19253675,   2.82365627,\n         -4.01344609, -16.4116936 ,  28.99797283],\n       [  5.12502904,  91.81929285, -99.90382805,   5.33250142,\n          8.24026737, -24.87468575,  26.31097231],\n       [  4.96394261,  33.01607402, -41.62987335,   8.68783666,\n          9.76497574, -25.72966061,  27.91817822]])"
     },
     "execution_count": 27,
     "metadata": {},
     "output_type": "execute_result"
    }
   ],
   "source": [
    "def F(a, b):\n",
    "    if a == b:\n",
    "        return a\n",
    "    else:\n",
    "        return (a - b) / (math.log(a) - math.log(b))\n",
    "\n",
    "\n",
    "res_LMDI = emission.copy()\n",
    "for i in range(1, 5):\n",
    "    for j in range(0, 7):\n",
    "        res_LMDI[i, j] = F(data[i, 0], data[i - 1, 0]) * math.log(emission[i, j] / emission[i - 1, j])\n",
    "res_LMDI = res_LMDI[1:, :]\n",
    "res_LMDI"
   ],
   "metadata": {
    "collapsed": false
   }
  },
  {
   "cell_type": "code",
   "execution_count": 28,
   "outputs": [
    {
     "data": {
      "text/plain": "array([[-1.32640671,  1.84894291, -0.64479727, -0.19530463,  0.49857414,\n        -8.0946935 ,  8.91368507],\n       [-0.22440249, -6.83034798,  6.6966028 ,  0.33650206, -0.47829224,\n        -1.95582189,  3.45575974],\n       [ 0.42532953,  7.62014341, -8.29108429,  0.44254779,  0.6838652 ,\n        -2.0643665 ,  2.18356487],\n       [ 0.29214315,  1.9430966 , -2.45004495,  0.51130567,  0.57469859,\n        -1.51426896,  1.64306989]])"
     },
     "execution_count": 28,
     "metadata": {},
     "output_type": "execute_result"
    }
   ],
   "source": [
    "delta_C = []\n",
    "for i in range(1,5):\n",
    "    delta_C.append(data[i,0]-data[i-1,0])\n",
    "delta_C = np.asarray(delta_C)\n",
    "weight_LMDI = res_LMDI.copy()\n",
    "for i in range(0,4):\n",
    "    for j in range(0,7):\n",
    "       weight_LMDI[i,j]/=delta_C[i]\n",
    "weight_LMDI"
   ],
   "metadata": {
    "collapsed": false
   }
  },
  {
   "cell_type": "code",
   "execution_count": 29,
   "outputs": [
    {
     "data": {
      "text/plain": "array([ 5.48590945,  8.39120049, 12.04954919, 16.99147329])"
     },
     "execution_count": 29,
     "metadata": {},
     "output_type": "execute_result"
    }
   ],
   "source": [
    "delta_C"
   ],
   "metadata": {
    "collapsed": false
   }
  }
 ],
 "metadata": {
  "kernelspec": {
   "display_name": "Python 3",
   "language": "python",
   "name": "python3"
  },
  "language_info": {
   "codemirror_mode": {
    "name": "ipython",
    "version": 2
   },
   "file_extension": ".py",
   "mimetype": "text/x-python",
   "name": "python",
   "nbconvert_exporter": "python",
   "pygments_lexer": "ipython2",
   "version": "2.7.6"
  }
 },
 "nbformat": 4,
 "nbformat_minor": 0
}
